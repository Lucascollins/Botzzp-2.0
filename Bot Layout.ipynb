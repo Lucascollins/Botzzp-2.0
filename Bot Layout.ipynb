{
 "cells": [
  {
   "cell_type": "code",
   "execution_count": null,
   "id": "5751d90d",
   "metadata": {},
   "outputs": [
    {
     "name": "stdout",
     "output_type": "stream",
     "text": [
      "a b\n"
     ]
    }
   ],
   "source": [
    "from tkinter import *    \n",
    "    \n",
    "root = tk.Tk()\n",
    "root.title(\"Bot mandar Mensagem\")\n",
    "\n",
    "_nameSheet= Label(root,text =\"Nome Planilha\")\n",
    "_nameSheet.grid(column = 0,row = 0)\n",
    "_inputSheet = Entry(root,width = 150)\n",
    "_inputSheet.grid(column = 1,row = 0)\n",
    "\n",
    "text_mensagem = Label(root,text =\"Mensagem\")\n",
    "text_mensagem.grid(column = 0,row = 1)\n",
    "text = Entry(root,width =150)\n",
    "text.grid(column = 1,row = 1)\n",
    "\n",
    "\n",
    "def test():\n",
    "    _sheet = _inputSheet.get()\n",
    "    _text = text.get()\n",
    "    print(_sheet,_text)\n",
    "\n",
    "button = Button(root,bg=\"blue\",text=\"Mandar\",command=test)\n",
    "button.grid(column = 0 ,row=5)\n",
    "\n",
    "root.mainloop()"
   ]
  },
  {
   "cell_type": "code",
   "execution_count": null,
   "id": "3a49b718",
   "metadata": {},
   "outputs": [],
   "source": []
  },
  {
   "cell_type": "code",
   "execution_count": null,
   "id": "404e1549",
   "metadata": {},
   "outputs": [],
   "source": []
  }
 ],
 "metadata": {
  "kernelspec": {
   "display_name": "Python 3 (ipykernel)",
   "language": "python",
   "name": "python3"
  },
  "language_info": {
   "codemirror_mode": {
    "name": "ipython",
    "version": 3
   },
   "file_extension": ".py",
   "mimetype": "text/x-python",
   "name": "python",
   "nbconvert_exporter": "python",
   "pygments_lexer": "ipython3",
   "version": "3.9.7"
  }
 },
 "nbformat": 4,
 "nbformat_minor": 5
}
